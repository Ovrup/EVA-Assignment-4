{
  "nbformat": 4,
  "nbformat_minor": 0,
  "metadata": {
    "colab": {
      "name": "SecondCodeAssignment4.ipynb",
      "version": "0.3.2",
      "provenance": [],
      "include_colab_link": true
    },
    "kernelspec": {
      "name": "python3",
      "display_name": "Python 3"
    },
    "accelerator": "GPU"
  },
  "cells": [
    {
      "cell_type": "markdown",
      "metadata": {
        "id": "view-in-github",
        "colab_type": "text"
      },
      "source": [
        "<a href=\"https://colab.research.google.com/github/Ovrup/EVA-Assignment-4/blob/master/SecondCodeAssignment4.ipynb\" target=\"_parent\"><img src=\"https://colab.research.google.com/assets/colab-badge.svg\" alt=\"Open In Colab\"/></a>"
      ]
    },
    {
      "cell_type": "markdown",
      "metadata": {
        "id": "Y9teLAGe84Dw",
        "colab_type": "text"
      },
      "source": [
        "**2nd Code Assignment 4**\n",
        "\n",
        "In this code I used a different architecture from the 1st one & moving forward I will be using the same architecture with added functionality. Here in this code my objective is to use parameters less than 15K. No of parameters used here is 12,902 with batch size 64. Validation accuracy after 20 epochs is 98.78%"
      ]
    },
    {
      "cell_type": "code",
      "metadata": {
        "id": "Ir7AeWMDhuSJ",
        "colab_type": "code",
        "colab": {}
      },
      "source": [
        "# https://keras.io/\n",
        "!pip install -q keras\n",
        "import keras"
      ],
      "execution_count": 0,
      "outputs": []
    },
    {
      "cell_type": "code",
      "metadata": {
        "id": "QSjrr3Izh3pC",
        "colab_type": "code",
        "colab": {}
      },
      "source": [
        "# Importing all necessary modules in Keras\n",
        "import numpy as np\n",
        "\n",
        "from keras.models import Sequential\n",
        "from keras.layers import Dense, Dropout, Activation, Flatten, Add\n",
        "from keras.layers import Convolution2D, MaxPooling2D\n",
        "from keras.utils import np_utils\n",
        "from keras.optimizers import SGD\n",
        "from keras.layers.normalization import BatchNormalization\n",
        "from keras.callbacks import ReduceLROnPlateau\n",
        "\n",
        "from keras.datasets import mnist"
      ],
      "execution_count": 0,
      "outputs": []
    },
    {
      "cell_type": "code",
      "metadata": {
        "id": "TRRChybch31I",
        "colab_type": "code",
        "colab": {}
      },
      "source": [
        "# mnist.load_data() function download the MNIST data set(Images of hand written digits) & divide it into training set & test set.\n",
        "# X_train holds the training samples & y_train holds the corresponding labels for training data. Likewise, X_test holds test data & y_test has the labels.\n",
        "(X_train, y_train), (X_test, y_test) = mnist.load_data()"
      ],
      "execution_count": 0,
      "outputs": []
    },
    {
      "cell_type": "code",
      "metadata": {
        "id": "UjptflFrh37_",
        "colab_type": "code",
        "outputId": "903349be-6841-4ad2-93aa-0ecab0ccca2c",
        "colab": {
          "base_uri": "https://localhost:8080/",
          "height": 303
        }
      },
      "source": [
        "# X_train is a matrix which has 60K images each of size 28*28. X_train.shape returns the shape of the total training set\n",
        "print (X_train.shape)\n",
        "from matplotlib import pyplot as plt\n",
        "%matplotlib inline\n",
        "# visulaization of the 1st sample of training set which is an image of 5 as shown below.\n",
        "plt.imshow(X_train[0])"
      ],
      "execution_count": 44,
      "outputs": [
        {
          "output_type": "stream",
          "text": [
            "(60000, 28, 28)\n"
          ],
          "name": "stdout"
        },
        {
          "output_type": "execute_result",
          "data": {
            "text/plain": [
              "<matplotlib.image.AxesImage at 0x7f45cd822ba8>"
            ]
          },
          "metadata": {
            "tags": []
          },
          "execution_count": 44
        },
        {
          "output_type": "display_data",
          "data": {
            "image/png": "[encoded data removed]",
            "text/plain": [
              "<Figure size 432x288 with 1 Axes>"
            ]
          },
          "metadata": {
            "tags": []
          }
        }
      ]
    },
    {
      "cell_type": "code",
      "metadata": {
        "id": "D1YYHLkMh4C1",
        "colab_type": "code",
        "colab": {}
      },
      "source": [
        "# The train & test set are 3D matrix.The training set is of shape (60000,28,28) & test set is (10000,28,28). But here the CNN model expects\n",
        "# the input shape to be 4D i.e (no of samples,height,width,channel).Channel implies whether the image is gray scale or colour(RGB). In case of\n",
        "# RGB image the 4th dimension would be 3. In this case the images are gray scale. Hence, it is 1. That's why training & test set are reshaped into\n",
        "# matrices of shape (60000,28,28,1) & (10000,28,28,1) respectively.\n",
        "X_train = X_train.reshape(X_train.shape[0], 28, 28,1)\n",
        "X_test = X_test.reshape(X_test.shape[0], 28, 28,1)"
      ],
      "execution_count": 0,
      "outputs": []
    },
    {
      "cell_type": "code",
      "metadata": {
        "id": "7HXK38mDh4JJ",
        "colab_type": "code",
        "colab": {}
      },
      "source": [
        "# The data sets are matrices which has values between 0-255. These are normally the pixel values. It is a good practice to normalise the pixels.\n",
        "#  Hence, dividing by 255 scales down each pixel values between 0-1. But before doing that the data set values has to be converted to float to make sure\n",
        "# after dividing by 255 these are stored as float.\n",
        "X_train = X_train.astype('float32')\n",
        "X_test = X_test.astype('float32')\n",
        "X_train /= 255\n",
        "X_test /= 255"
      ],
      "execution_count": 0,
      "outputs": []
    },
    {
      "cell_type": "code",
      "metadata": {
        "id": "Hz_GaFwXh4K8",
        "colab_type": "code",
        "outputId": "cb655cfd-4841-4580-f2ea-11dd0c50a0be",
        "colab": {
          "base_uri": "https://localhost:8080/",
          "height": 34
        }
      },
      "source": [
        "# 1st 10 labels for training set. As printed below the 1st element is 5 which implies the 1st image of training set is of digit 5 and so on. \n",
        "y_train[:10]"
      ],
      "execution_count": 47,
      "outputs": [
        {
          "output_type": "execute_result",
          "data": {
            "text/plain": [
              "array([5, 0, 4, 1, 9, 2, 1, 3, 1, 4], dtype=uint8)"
            ]
          },
          "metadata": {
            "tags": []
          },
          "execution_count": 47
        }
      ]
    },
    {
      "cell_type": "code",
      "metadata": {
        "id": "V4HAeMk-h4Op",
        "colab_type": "code",
        "colab": {}
      },
      "source": [
        "# Convert 1-dimensional class arrays to 10-dimensional class matrices\n",
        "# As shown above the label matrix(Y_train & Y_test) holds values that implies what digit the image is about. So, keras may find some relational order\n",
        "# between these values. To avoid this problem we hot encode the matrix into a binary matrix. This matrix has number of columns equal to the number\n",
        "# of classes(10 columns in this scenario). Each row defines the label of one sample point in data set & has only one '1' & others are '0'. '1' at\n",
        "# particular index position implies the digit equal to the column number. For example, the 1st row(1st sample of training data set) has '1' at column\n",
        "# number 5(starting from 0) which means this is image of digit 5.\n",
        "# Convert 1-dimensional class arrays to 10-dimensional class matrices \n",
        "Y_train = np_utils.to_categorical(y_train, 10)\n",
        "Y_test = np_utils.to_categorical(y_test, 10)"
      ],
      "execution_count": 0,
      "outputs": []
    },
    {
      "cell_type": "code",
      "metadata": {
        "id": "SnEjyfkyh4RJ",
        "colab_type": "code",
        "outputId": "54ab3b78-2bef-405d-ae8c-d116ae51f7c5",
        "colab": {
          "base_uri": "https://localhost:8080/",
          "height": 187
        }
      },
      "source": [
        "# Label matrix hot encoded into binary matrix\n",
        "Y_train[:10]"
      ],
      "execution_count": 49,
      "outputs": [
        {
          "output_type": "execute_result",
          "data": {
            "text/plain": [
              "array([[0., 0., 0., 0., 0., 1., 0., 0., 0., 0.],\n",
              "       [1., 0., 0., 0., 0., 0., 0., 0., 0., 0.],\n",
              "       [0., 0., 0., 0., 1., 0., 0., 0., 0., 0.],\n",
              "       [0., 1., 0., 0., 0., 0., 0., 0., 0., 0.],\n",
              "       [0., 0., 0., 0., 0., 0., 0., 0., 0., 1.],\n",
              "       [0., 0., 1., 0., 0., 0., 0., 0., 0., 0.],\n",
              "       [0., 1., 0., 0., 0., 0., 0., 0., 0., 0.],\n",
              "       [0., 0., 0., 1., 0., 0., 0., 0., 0., 0.],\n",
              "       [0., 1., 0., 0., 0., 0., 0., 0., 0., 0.],\n",
              "       [0., 0., 0., 0., 1., 0., 0., 0., 0., 0.]], dtype=float32)"
            ]
          },
          "metadata": {
            "tags": []
          },
          "execution_count": 49
        }
      ]
    },
    {
      "cell_type": "code",
      "metadata": {
        "id": "Iy_ibvgrX4Ek",
        "colab_type": "code",
        "colab": {}
      },
      "source": [
        "from keras.layers import Activation\n",
        "\n",
        "model = Sequential()\n",
        "\n",
        "# Input = 28*28*1\n",
        "model.add(Convolution2D(10, kernel_size = (3,3), activation = 'relu', input_shape = (28, 28, 1)))\n",
        "\n",
        "# Input = 26*26*10\n",
        "model.add(Convolution2D(16, kernel_size = (3,3), activation = 'relu'))\n",
        "# Input = 24*24*16\n",
        "model.add(Convolution2D(16, kernel_size = (3,3), activation = 'relu'))\n",
        "\n",
        "# Input = 22*22*16\n",
        "model.add(Convolution2D(10, kernel_size=(1,1), activation='relu'))\n",
        "# Input = 22*22*10\n",
        "model.add(MaxPooling2D(pool_size = (2,2)))\n",
        "\n",
        "# Input = 11*11*10\n",
        "model.add(Convolution2D(16, kernel_size=(3,3), activation='relu'))\n",
        "# Input = 9*9*16\n",
        "model.add(Convolution2D(16, kernel_size=(3,3), activation='relu'))\n",
        "\n",
        "# Input = 7*7*16\n",
        "model.add(Convolution2D(10, kernel_size=(1,1), activation='relu'))\n",
        "\n",
        "\n",
        "# Input = 7*7*10\n",
        "model.add(Convolution2D(10, 7))\n",
        "\n",
        "# Input = 1*1*10\n",
        "model.add(Flatten())\n",
        "model.add(Activation('softmax'))\n"
      ],
      "execution_count": 0,
      "outputs": []
    },
    {
      "cell_type": "code",
      "metadata": {
        "id": "vRGYZKoyiUct",
        "colab_type": "code",
        "outputId": "15760c94-3f46-46e9-f7a9-11ee4582df46",
        "colab": {
          "base_uri": "https://localhost:8080/",
          "height": 510
        }
      },
      "source": [
        "# summary() function displays the model structure i.e for each layer how many parameters used, what is the shape of output image\n",
        "model.summary()"
      ],
      "execution_count": 51,
      "outputs": [
        {
          "output_type": "stream",
          "text": [
            "_________________________________________________________________\n",
            "Layer (type)                 Output Shape              Param #   \n",
            "=================================================================\n",
            "conv2d_17 (Conv2D)           (None, 26, 26, 10)        100       \n",
            "_________________________________________________________________\n",
            "conv2d_18 (Conv2D)           (None, 24, 24, 16)        1456      \n",
            "_________________________________________________________________\n",
            "conv2d_19 (Conv2D)           (None, 22, 22, 16)        2320      \n",
            "_________________________________________________________________\n",
            "conv2d_20 (Conv2D)           (None, 22, 22, 10)        170       \n",
            "_________________________________________________________________\n",
            "max_pooling2d_3 (MaxPooling2 (None, 11, 11, 10)        0         \n",
            "_________________________________________________________________\n",
            "conv2d_21 (Conv2D)           (None, 9, 9, 16)          1456      \n",
            "_________________________________________________________________\n",
            "conv2d_22 (Conv2D)           (None, 7, 7, 16)          2320      \n",
            "_________________________________________________________________\n",
            "conv2d_23 (Conv2D)           (None, 7, 7, 10)          170       \n",
            "_________________________________________________________________\n",
            "conv2d_24 (Conv2D)           (None, 1, 1, 10)          4910      \n",
            "_________________________________________________________________\n",
            "flatten_3 (Flatten)          (None, 10)                0         \n",
            "_________________________________________________________________\n",
            "activation_3 (Activation)    (None, 10)                0         \n",
            "=================================================================\n",
            "Total params: 12,902\n",
            "Trainable params: 12,902\n",
            "Non-trainable params: 0\n",
            "_________________________________________________________________\n"
          ],
          "name": "stdout"
        }
      ]
    },
    {
      "cell_type": "code",
      "metadata": {
        "id": "IKkc6pAmiUmE",
        "colab_type": "code",
        "colab": {}
      },
      "source": [
        "# Compile the model with adam optimizer. Since this is multi class problem (10 classes) 'categorical_crossentropy' is used as loss function.\n",
        "# accuracy is used as metrics which means while training this accuracy metrics will be monitored.\n",
        "model.compile(loss='categorical_crossentropy',\n",
        "             optimizer='adam',\n",
        "             metrics=['accuracy'])"
      ],
      "execution_count": 0,
      "outputs": []
    },
    {
      "cell_type": "code",
      "metadata": {
        "id": "gZcCcCL3iUte",
        "colab_type": "code",
        "outputId": "8af775b2-7b49-4344-a61c-c856b175be54",
        "colab": {
          "base_uri": "https://localhost:8080/",
          "height": 731
        }
      },
      "source": [
        "# Train the model with fit() which takes the training data set along with the label matrix. Epoch means one round of the whole data set. Batch size\n",
        "# determines in an epoch how many images to be processed parallelly. Batch size 32 means in an epoch in one iteration 32 images are processed.\n",
        "model.fit(X_train, Y_train, batch_size=64, epochs=20, validation_data = (X_test,Y_test),verbose=1)"
      ],
      "execution_count": 56,
      "outputs": [
        {
          "output_type": "stream",
          "text": [
            "Train on 60000 samples, validate on 10000 samples\n",
            "Epoch 1/20\n",
            "60000/60000 [==============================] - 6s 96us/step - loss: 0.0206 - acc: 0.9932 - val_loss: 0.0402 - val_acc: 0.9876\n",
            "Epoch 2/20\n",
            "60000/60000 [==============================] - 6s 94us/step - loss: 0.0171 - acc: 0.9938 - val_loss: 0.0405 - val_acc: 0.9885\n",
            "Epoch 3/20\n",
            "60000/60000 [==============================] - 6s 94us/step - loss: 0.0158 - acc: 0.9943 - val_loss: 0.0399 - val_acc: 0.9879\n",
            "Epoch 4/20\n",
            "60000/60000 [==============================] - 6s 93us/step - loss: 0.0135 - acc: 0.9953 - val_loss: 0.0398 - val_acc: 0.9895\n",
            "Epoch 5/20\n",
            "60000/60000 [==============================] - 6s 94us/step - loss: 0.0125 - acc: 0.9959 - val_loss: 0.0464 - val_acc: 0.9882\n",
            "Epoch 6/20\n",
            "60000/60000 [==============================] - 6s 94us/step - loss: 0.0130 - acc: 0.9957 - val_loss: 0.0450 - val_acc: 0.9881\n",
            "Epoch 7/20\n",
            "60000/60000 [==============================] - 6s 93us/step - loss: 0.0127 - acc: 0.9954 - val_loss: 0.0517 - val_acc: 0.9880\n",
            "Epoch 8/20\n",
            "60000/60000 [==============================] - 6s 94us/step - loss: 0.0114 - acc: 0.9960 - val_loss: 0.0571 - val_acc: 0.9862\n",
            "Epoch 9/20\n",
            "60000/60000 [==============================] - 6s 94us/step - loss: 0.0106 - acc: 0.9963 - val_loss: 0.0567 - val_acc: 0.9876\n",
            "Epoch 10/20\n",
            "60000/60000 [==============================] - 6s 94us/step - loss: 0.0110 - acc: 0.9962 - val_loss: 0.0433 - val_acc: 0.9897\n",
            "Epoch 11/20\n",
            "60000/60000 [==============================] - 6s 94us/step - loss: 0.0086 - acc: 0.9972 - val_loss: 0.0416 - val_acc: 0.9905\n",
            "Epoch 12/20\n",
            "60000/60000 [==============================] - 6s 97us/step - loss: 0.0097 - acc: 0.9967 - val_loss: 0.0558 - val_acc: 0.9880\n",
            "Epoch 13/20\n",
            "60000/60000 [==============================] - 6s 105us/step - loss: 0.0103 - acc: 0.9964 - val_loss: 0.0419 - val_acc: 0.9892\n",
            "Epoch 14/20\n",
            "60000/60000 [==============================] - 6s 98us/step - loss: 0.0089 - acc: 0.9970 - val_loss: 0.0466 - val_acc: 0.9895\n",
            "Epoch 15/20\n",
            "60000/60000 [==============================] - 6s 94us/step - loss: 0.0084 - acc: 0.9971 - val_loss: 0.0500 - val_acc: 0.9889\n",
            "Epoch 16/20\n",
            "60000/60000 [==============================] - 6s 99us/step - loss: 0.0077 - acc: 0.9974 - val_loss: 0.0466 - val_acc: 0.9893\n",
            "Epoch 17/20\n",
            "60000/60000 [==============================] - 6s 106us/step - loss: 0.0077 - acc: 0.9975 - val_loss: 0.0541 - val_acc: 0.9882\n",
            "Epoch 18/20\n",
            "60000/60000 [==============================] - 7s 109us/step - loss: 0.0072 - acc: 0.9976 - val_loss: 0.0543 - val_acc: 0.9892\n",
            "Epoch 19/20\n",
            "60000/60000 [==============================] - 6s 97us/step - loss: 0.0083 - acc: 0.9973 - val_loss: 0.0546 - val_acc: 0.9883\n",
            "Epoch 20/20\n",
            "60000/60000 [==============================] - 6s 94us/step - loss: 0.0063 - acc: 0.9978 - val_loss: 0.0573 - val_acc: 0.9878\n"
          ],
          "name": "stdout"
        },
        {
          "output_type": "execute_result",
          "data": {
            "text/plain": [
              "<keras.callbacks.History at 0x7f45cd2bf7f0>"
            ]
          },
          "metadata": {
            "tags": []
          },
          "execution_count": 56
        }
      ]
    },
    {
      "cell_type": "code",
      "metadata": {
        "id": "MUTlV4ooiU1D",
        "colab_type": "code",
        "outputId": "ed9654df-156f-4b5a-c9b0-c99b76dd41fb",
        "colab": {
          "base_uri": "https://localhost:8080/",
          "height": 34
        }
      },
      "source": [
        "# Now the model is trained which means the weights are optimized. model.evaluate() predicts the classes of each image in test set & then calculate\n",
        "# test set loss & accuracy.\n",
        "score = model.evaluate(X_test, Y_test, verbose=1)"
      ],
      "execution_count": 57,
      "outputs": [
        {
          "output_type": "stream",
          "text": [
            "10000/10000 [==============================] - 1s 60us/step\n"
          ],
          "name": "stdout"
        }
      ]
    },
    {
      "cell_type": "code",
      "metadata": {
        "id": "fAY1beNNiiXH",
        "colab_type": "code",
        "outputId": "259ad155-a0cb-4165-bd1f-f15196c2b599",
        "colab": {
          "base_uri": "https://localhost:8080/",
          "height": 34
        }
      },
      "source": [
        "# score is a vector that holds the test set loss & accuracy\n",
        "print(score)"
      ],
      "execution_count": 58,
      "outputs": [
        {
          "output_type": "stream",
          "text": [
            "[0.057302225359145906, 0.9878]\n"
          ],
          "name": "stdout"
        }
      ]
    },
    {
      "cell_type": "code",
      "metadata": {
        "id": "mnHdifAZiieX",
        "colab_type": "code",
        "colab": {}
      },
      "source": [
        "# Predict the class of each image in test set & stores in y_pred matrix\n",
        "y_pred = model.predict(X_test)"
      ],
      "execution_count": 0,
      "outputs": []
    },
    {
      "cell_type": "code",
      "metadata": {
        "id": "W5tTsReFiik-",
        "colab_type": "code",
        "outputId": "5699c2be-d2b6-4382-8806-c2d15d1b8391",
        "colab": {
          "base_uri": "https://localhost:8080/",
          "height": 340
        }
      },
      "source": [
        "print(y_pred[:9])\n",
        "print(y_test[:9])"
      ],
      "execution_count": 60,
      "outputs": [
        {
          "output_type": "stream",
          "text": [
            "[[9.4765087e-18 5.0219224e-20 2.7008194e-11 1.9390305e-14 3.3767891e-25\n",
            "  1.8652542e-16 2.4302232e-34 1.0000000e+00 1.8251602e-18 1.4829932e-14]\n",
            " [1.2161794e-20 1.0329203e-16 1.0000000e+00 8.9655519e-23 1.8976869e-24\n",
            "  4.1370760e-25 4.9037422e-18 1.2351969e-24 5.2054955e-16 7.0931359e-26]\n",
            " [1.6077638e-10 9.9999964e-01 9.9117749e-08 3.5593744e-14 1.0501109e-09\n",
            "  6.7522947e-09 8.9607743e-09 1.2148463e-08 2.3779334e-07 3.9420975e-12]\n",
            " [1.0000000e+00 6.1846700e-25 3.0744364e-18 1.7514120e-20 2.1682727e-20\n",
            "  2.9920268e-15 1.9425603e-12 1.0108669e-20 7.7854832e-16 8.2914336e-15]\n",
            " [6.6623627e-20 2.2852578e-19 8.6963178e-21 6.1332589e-19 1.0000000e+00\n",
            "  3.5587366e-22 2.3249873e-17 5.8129987e-13 2.9556351e-15 3.9530995e-08]\n",
            " [6.7767132e-11 9.9999976e-01 2.6013025e-08 5.2038038e-17 7.8888659e-11\n",
            "  9.8148242e-14 1.0244163e-13 1.2489193e-07 7.6418331e-08 1.3213443e-12]\n",
            " [7.7858868e-34 2.2159629e-18 2.0763237e-14 7.3724384e-24 1.0000000e+00\n",
            "  2.9116775e-15 2.2009572e-27 4.4870414e-12 1.0707804e-08 3.7575061e-11]\n",
            " [3.9145199e-30 2.8562699e-19 9.8417949e-19 7.3086497e-13 9.2145686e-10\n",
            "  1.3892871e-11 5.0800426e-24 7.7862139e-19 1.2899123e-14 1.0000000e+00]\n",
            " [8.4978938e-17 4.2772373e-30 1.2796280e-16 9.2336001e-17 1.7555063e-14\n",
            "  9.9619943e-01 3.7999386e-03 9.0739157e-18 5.6397130e-07 8.3262932e-15]]\n",
            "[7 2 1 0 4 1 4 9 5]\n"
          ],
          "name": "stdout"
        }
      ]
    },
    {
      "cell_type": "code",
      "metadata": {
        "id": "xxd3j3uKmtUo",
        "colab_type": "code",
        "colab": {}
      },
      "source": [
        "layer_dict = dict([(layer.name, layer) for layer in model.layers])"
      ],
      "execution_count": 0,
      "outputs": []
    },
    {
      "cell_type": "code",
      "metadata": {
        "id": "ShGbYmvH7l4a",
        "colab_type": "code",
        "colab": {}
      },
      "source": [
        "import numpy as np\n",
        "from matplotlib import pyplot as plt\n",
        "from keras import backend as K\n",
        "%matplotlib inline\n",
        "# util function to convert a tensor into a valid image\n",
        "def deprocess_image(x):\n",
        "    # normalize tensor: center on 0., ensure std is 0.1\n",
        "    x -= x.mean()\n",
        "    x /= (x.std() + 1e-5)\n",
        "    x *= 0.1\n",
        "\n",
        "    # clip to [0, 1]\n",
        "    x += 0.5\n",
        "    x = np.clip(x, 0, 1)\n",
        "\n",
        "    # convert to RGB array\n",
        "    x *= 255\n",
        "    #x = x.transpose((1, 2, 0))\n",
        "    x = np.clip(x, 0, 255).astype('uint8')\n",
        "    return x\n",
        "\n",
        "def vis_img_in_filter(img = np.array(X_train[2]).reshape((1, 28, 28, 1)).astype(np.float64), \n",
        "                      layer_name = 'conv2d_14'):\n",
        "    layer_output = layer_dict[layer_name].output\n",
        "    img_ascs = list()\n",
        "    for filter_index in range(layer_output.shape[3]):\n",
        "        # build a loss function that maximizes the activation\n",
        "        # of the nth filter of the layer considered\n",
        "        loss = K.mean(layer_output[:, :, :, filter_index])\n",
        "\n",
        "        # compute the gradient of the input picture wrt this loss\n",
        "        grads = K.gradients(loss, model.input)[0]\n",
        "\n",
        "        # normalization trick: we normalize the gradient\n",
        "        grads /= (K.sqrt(K.mean(K.square(grads))) + 1e-5)\n",
        "\n",
        "        # this function returns the loss and grads given the input picture\n",
        "        iterate = K.function([model.input], [loss, grads])\n",
        "\n",
        "        # step size for gradient ascent\n",
        "        step = 5.\n",
        "\n",
        "        img_asc = np.array(img)\n",
        "        # run gradient ascent for 20 steps\n",
        "        for i in range(20):\n",
        "            loss_value, grads_value = iterate([img_asc])\n",
        "            img_asc += grads_value * step\n",
        "\n",
        "        img_asc = img_asc[0]\n",
        "        img_ascs.append(deprocess_image(img_asc).reshape((28, 28)))\n",
        "        \n",
        "    if layer_output.shape[3] >= 35:\n",
        "        plot_x, plot_y = 6, 6\n",
        "    elif layer_output.shape[3] >= 23:\n",
        "        plot_x, plot_y = 4, 6\n",
        "    elif layer_output.shape[3] >= 11:\n",
        "        plot_x, plot_y = 2, 6\n",
        "    else:\n",
        "        plot_x, plot_y = 1, 2\n",
        "    fig, ax = plt.subplots(plot_x, plot_y, figsize = (12, 12))\n",
        "    ax[0, 0].imshow(img.reshape((28, 28)), cmap = 'gray')\n",
        "    ax[0, 0].set_title('Input image')\n",
        "    fig.suptitle('Input image and %s filters' % (layer_name,))\n",
        "    fig.tight_layout(pad = 0.3, rect = [0, 0, 0.9, 0.9])\n",
        "    for (x, y) in [(i, j) for i in range(plot_x) for j in range(plot_y)]:\n",
        "        if x == 0 and y == 0:\n",
        "            continue\n",
        "        ax[x, y].imshow(img_ascs[x * plot_y + y - 1], cmap = 'gray')\n",
        "        ax[x, y].set_title('filter %d' % (x * plot_y + y - 1))\n",
        "\n",
        "vis_img_in_filter()"
      ],
      "execution_count": 0,
      "outputs": []
    },
    {
      "cell_type": "code",
      "metadata": {
        "id": "1qYgDEkt-C7H",
        "colab_type": "code",
        "colab": {}
      },
      "source": [
        ""
      ],
      "execution_count": 0,
      "outputs": []
    }
  ]
}